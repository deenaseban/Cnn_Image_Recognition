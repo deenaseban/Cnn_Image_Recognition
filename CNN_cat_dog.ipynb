{
  "nbformat": 4,
  "nbformat_minor": 0,
  "metadata": {
    "colab": {
      "provenance": [],
      "authorship_tag": "ABX9TyPpMoTZ47lWtYcS0O6izkdd"
    },
    "kernelspec": {
      "name": "python3",
      "display_name": "Python 3"
    },
    "language_info": {
      "name": "python"
    }
  },
  "cells": [
    {
      "cell_type": "code",
      "execution_count": null,
      "metadata": {
        "colab": {
          "base_uri": "https://localhost:8080/"
        },
        "id": "CeMRZNXeasoF",
        "outputId": "14720bdd-4750-47c0-a74c-88527e40eb78"
      },
      "outputs": [
        {
          "output_type": "stream",
          "name": "stdout",
          "text": [
            "Mounted at /content/drive\n"
          ]
        }
      ],
      "source": [
        "# Drive mount\n",
        "from google.colab import drive\n",
        "drive.mount('/content/drive')"
      ]
    },
    {
      "cell_type": "code",
      "source": [
        "import pandas as pd\n",
        "import numpy as np\n",
        "from sklearn.svm import SVC\n",
        "import matplotlib.pyplot as plt\n",
        "import os   # To define or read path of file and directory\n",
        "from skimage.io import imread  # used for reading images\n",
        "from sklearn.model_selection import train_test_split\n",
        "from skimage.transform import resize  # to bring all images into same size"
      ],
      "metadata": {
        "id": "gnYdMC4PceL6"
      },
      "execution_count": null,
      "outputs": []
    },
    {
      "cell_type": "code",
      "source": [
        "# To list all contents inside the data folder\n",
        "os.listdir('/content/drive/MyDrive/Data')"
      ],
      "metadata": {
        "colab": {
          "base_uri": "https://localhost:8080/"
        },
        "id": "12Bp_GH331XX",
        "outputId": "e33324ca-5dbe-4e0b-9573-a310a8d3d2bd"
      },
      "execution_count": null,
      "outputs": [
        {
          "output_type": "execute_result",
          "data": {
            "text/plain": [
              "['Cat', 'Dog', 'python-for-everybody.pdf']"
            ]
          },
          "metadata": {},
          "execution_count": 3
        }
      ]
    },
    {
      "cell_type": "code",
      "source": [
        "os.listdir('/content/drive/MyDrive/Data/Cat')"
      ],
      "metadata": {
        "colab": {
          "base_uri": "https://localhost:8080/"
        },
        "id": "PVitnxlW4mNN",
        "outputId": "40bc408e-1524-4e7d-879a-2cd2495c554e"
      },
      "execution_count": null,
      "outputs": [
        {
          "output_type": "execute_result",
          "data": {
            "text/plain": [
              "['cat.102.jpg',\n",
              " 'cat.110.jpg',\n",
              " 'cat.100.jpg',\n",
              " 'cat.108.jpg',\n",
              " 'cat.101.jpg',\n",
              " 'cat.105.jpg',\n",
              " 'cat.109.jpg',\n",
              " 'cat.111.jpg',\n",
              " 'cat.103.jpg',\n",
              " 'cat.104.jpg',\n",
              " 'cat.107.jpg',\n",
              " 'cat.106.jpg',\n",
              " 'cat.115.jpg',\n",
              " 'cat.113.jpg',\n",
              " 'cat.118.jpg',\n",
              " 'cat.116.jpg',\n",
              " 'cat.112.jpg',\n",
              " 'cat.117.jpg',\n",
              " 'cat.119.jpg',\n",
              " 'cat.114.jpg',\n",
              " 'cat.58.jpg',\n",
              " 'cat.36.jpg',\n",
              " 'cat.37.jpg',\n",
              " 'cat.44.jpg',\n",
              " 'cat.39.jpg',\n",
              " 'cat.60.jpg',\n",
              " 'cat.51.jpg',\n",
              " 'cat.38.jpg',\n",
              " 'cat.63.jpg',\n",
              " 'cat.45.jpg',\n",
              " 'cat.54.jpg',\n",
              " 'cat.59.jpg',\n",
              " 'cat.40.jpg',\n",
              " 'cat.56.jpg',\n",
              " 'cat.62.jpg',\n",
              " 'cat.48.jpg',\n",
              " 'cat.53.jpg',\n",
              " 'cat.50.jpg',\n",
              " 'cat.52.jpg',\n",
              " 'cat.43.jpg',\n",
              " 'cat.55.jpg',\n",
              " 'cat.47.jpg',\n",
              " 'cat.42.jpg',\n",
              " 'cat.61.jpg',\n",
              " 'cat.35.jpg',\n",
              " 'cat.41.jpg',\n",
              " 'cat.57.jpg',\n",
              " 'cat.49.jpg',\n",
              " 'cat.46.jpg',\n",
              " 'cat.82.jpg',\n",
              " 'cat.92.jpg',\n",
              " 'cat.88.jpg',\n",
              " 'cat.97.jpg',\n",
              " 'cat.76.jpg',\n",
              " 'cat.79.jpg',\n",
              " 'cat.74.jpg',\n",
              " 'cat.83.jpg',\n",
              " 'cat.89.jpg',\n",
              " 'cat.98.jpg',\n",
              " 'cat.87.jpg',\n",
              " 'cat.95.jpg',\n",
              " 'cat.84.jpg',\n",
              " 'cat.86.jpg',\n",
              " 'cat.77.jpg',\n",
              " 'cat.96.jpg',\n",
              " 'cat.75.jpg',\n",
              " 'cat.67.jpg',\n",
              " 'cat.72.jpg',\n",
              " 'cat.91.jpg',\n",
              " 'cat.69.jpg',\n",
              " 'cat.65.jpg',\n",
              " 'cat.85.jpg',\n",
              " 'cat.94.jpg',\n",
              " 'cat.78.jpg',\n",
              " 'cat.66.jpg',\n",
              " 'cat.93.jpg',\n",
              " 'cat.71.jpg',\n",
              " 'cat.64.jpg',\n",
              " 'cat.73.jpg',\n",
              " 'cat.70.jpg',\n",
              " 'cat.90.jpg',\n",
              " 'cat.68.jpg',\n",
              " 'cat.81.jpg',\n",
              " 'cat.99.jpg',\n",
              " 'cat.80.jpg']"
            ]
          },
          "metadata": {},
          "execution_count": 4
        }
      ]
    },
    {
      "cell_type": "code",
      "source": [
        "len(os.listdir('/content/drive/MyDrive/Data/Cat'))"
      ],
      "metadata": {
        "colab": {
          "base_uri": "https://localhost:8080/"
        },
        "id": "0yYYRj056oYj",
        "outputId": "f19736ac-bc9a-412f-9df4-7fe76d5474d5"
      },
      "execution_count": null,
      "outputs": [
        {
          "output_type": "execute_result",
          "data": {
            "text/plain": [
              "85"
            ]
          },
          "metadata": {},
          "execution_count": 5
        }
      ]
    },
    {
      "cell_type": "code",
      "source": [
        "len(os.listdir('/content/drive/MyDrive/Data/Dog'))"
      ],
      "metadata": {
        "colab": {
          "base_uri": "https://localhost:8080/"
        },
        "id": "tz_oXkmL7Cwy",
        "outputId": "f07455f2-e9e5-4c64-eb64-033874826eab"
      },
      "execution_count": null,
      "outputs": [
        {
          "output_type": "execute_result",
          "data": {
            "text/plain": [
              "68"
            ]
          },
          "metadata": {},
          "execution_count": 6
        }
      ]
    },
    {
      "cell_type": "code",
      "source": [
        "# To assign path to a variable\n",
        "catpath=os.path.join('/content/drive/MyDrive/Data','Cat')\n",
        "for img in os.listdir(catpath):\n",
        "  print(img)"
      ],
      "metadata": {
        "id": "vLj2PR4g7M4c",
        "colab": {
          "base_uri": "https://localhost:8080/"
        },
        "outputId": "fb18d808-039c-4d25-e0cd-f6e29101d5aa"
      },
      "execution_count": null,
      "outputs": [
        {
          "output_type": "stream",
          "name": "stdout",
          "text": [
            "cat.102.jpg\n",
            "cat.110.jpg\n",
            "cat.100.jpg\n",
            "cat.108.jpg\n",
            "cat.101.jpg\n",
            "cat.105.jpg\n",
            "cat.109.jpg\n",
            "cat.111.jpg\n",
            "cat.103.jpg\n",
            "cat.104.jpg\n",
            "cat.107.jpg\n",
            "cat.106.jpg\n",
            "cat.115.jpg\n",
            "cat.113.jpg\n",
            "cat.118.jpg\n",
            "cat.116.jpg\n",
            "cat.112.jpg\n",
            "cat.117.jpg\n",
            "cat.119.jpg\n",
            "cat.114.jpg\n",
            "cat.58.jpg\n",
            "cat.36.jpg\n",
            "cat.37.jpg\n",
            "cat.44.jpg\n",
            "cat.39.jpg\n",
            "cat.60.jpg\n",
            "cat.51.jpg\n",
            "cat.38.jpg\n",
            "cat.63.jpg\n",
            "cat.45.jpg\n",
            "cat.54.jpg\n",
            "cat.59.jpg\n",
            "cat.40.jpg\n",
            "cat.56.jpg\n",
            "cat.62.jpg\n",
            "cat.48.jpg\n",
            "cat.53.jpg\n",
            "cat.50.jpg\n",
            "cat.52.jpg\n",
            "cat.43.jpg\n",
            "cat.55.jpg\n",
            "cat.47.jpg\n",
            "cat.42.jpg\n",
            "cat.61.jpg\n",
            "cat.35.jpg\n",
            "cat.41.jpg\n",
            "cat.57.jpg\n",
            "cat.49.jpg\n",
            "cat.46.jpg\n",
            "cat.82.jpg\n",
            "cat.92.jpg\n",
            "cat.88.jpg\n",
            "cat.97.jpg\n",
            "cat.76.jpg\n",
            "cat.79.jpg\n",
            "cat.74.jpg\n",
            "cat.83.jpg\n",
            "cat.89.jpg\n",
            "cat.98.jpg\n",
            "cat.87.jpg\n",
            "cat.95.jpg\n",
            "cat.84.jpg\n",
            "cat.86.jpg\n",
            "cat.77.jpg\n",
            "cat.96.jpg\n",
            "cat.75.jpg\n",
            "cat.67.jpg\n",
            "cat.72.jpg\n",
            "cat.91.jpg\n",
            "cat.69.jpg\n",
            "cat.65.jpg\n",
            "cat.85.jpg\n",
            "cat.94.jpg\n",
            "cat.78.jpg\n",
            "cat.66.jpg\n",
            "cat.93.jpg\n",
            "cat.71.jpg\n",
            "cat.64.jpg\n",
            "cat.73.jpg\n",
            "cat.70.jpg\n",
            "cat.90.jpg\n",
            "cat.68.jpg\n",
            "cat.81.jpg\n",
            "cat.99.jpg\n",
            "cat.80.jpg\n"
          ]
        }
      ]
    },
    {
      "cell_type": "code",
      "source": [
        "dogpath=os.path.join('/content/drive/MyDrive/Data','Dog')\n",
        "for img in os.listdir(dogpath):\n",
        "  print(img)"
      ],
      "metadata": {
        "id": "UWQqVnOBkJSB",
        "colab": {
          "base_uri": "https://localhost:8080/"
        },
        "outputId": "36d410a0-573e-4b48-a17e-5a2d67153ed1"
      },
      "execution_count": null,
      "outputs": [
        {
          "output_type": "stream",
          "name": "stdout",
          "text": [
            "dog.14.jpg\n",
            "dog.13.jpg\n",
            "dog.1.jpg\n",
            "dog.15.jpg\n",
            "dog.12.jpg\n",
            "dog.10.jpg\n",
            "dog.11.jpg\n",
            "dog.21.jpg\n",
            "dog.19.jpg\n",
            "dog.23.jpg\n",
            "dog.17.jpg\n",
            "dog.2.jpg\n",
            "dog.22.jpg\n",
            "dog.16.jpg\n",
            "dog.24.jpg\n",
            "dog.18.jpg\n",
            "dog.20.jpg\n",
            "dog.3.jpg\n",
            "dog.28.jpg\n",
            "dog.25.jpg\n",
            "dog.33.jpg\n",
            "dog.32.jpg\n",
            "dog.26.jpg\n",
            "dog.31.jpg\n",
            "dog.30.jpg\n",
            "dog.27.jpg\n",
            "dog.29.jpg\n",
            "dog.47.jpg\n",
            "dog.45.jpg\n",
            "dog.43.jpg\n",
            "dog.46.jpg\n",
            "dog.51.jpg\n",
            "dog.52.jpg\n",
            "dog.60.jpg\n",
            "dog.34.jpg\n",
            "dog.57.jpg\n",
            "dog.54.jpg\n",
            "dog.48.jpg\n",
            "dog.38.jpg\n",
            "dog.55.jpg\n",
            "dog.44.jpg\n",
            "dog.41.jpg\n",
            "dog.35.jpg\n",
            "dog.40.jpg\n",
            "dog.59.jpg\n",
            "dog.6.jpg\n",
            "dog.53.jpg\n",
            "dog.56.jpg\n",
            "dog.36.jpg\n",
            "dog.58.jpg\n",
            "dog.37.jpg\n",
            "dog.39.jpg\n",
            "dog.50.jpg\n",
            "dog.5.jpg\n",
            "dog.49.jpg\n",
            "dog.42.jpg\n",
            "dog.4.jpg\n",
            "dog.66.jpg\n",
            "dog.63.jpg\n",
            "dog.61.jpg\n",
            "dog.9.jpg\n",
            "dog.68.jpg\n",
            "dog.65.jpg\n",
            "dog.7.jpg\n",
            "dog.67.jpg\n",
            "dog.8.jpg\n",
            "dog.64.jpg\n",
            "dog.62.jpg\n"
          ]
        }
      ]
    },
    {
      "cell_type": "code",
      "source": [
        "flat_data_arr=[]   # used for collecting input data\n",
        "target_arr=[]      # used for collecting output data\n",
        "categories=['Cat','Dog']\n",
        "datadir='/content/drive/MyDrive/Data'    # for collecting the path of data"
      ],
      "metadata": {
        "id": "aFjDUQViK7Wi"
      },
      "execution_count": null,
      "outputs": []
    },
    {
      "cell_type": "code",
      "source": [
        "for i in categories:                    # cat\n",
        "  print('Loading categories....')       # cat\n",
        "  path=os.path.join(datadir,i)          # assinging to a variable 'path'  (/content/drive/MyDrive/Data,cat)\n",
        "  for img in os.listdir(path):               # collecting each images\n",
        "    img_arr=imread(os.path.join(path,img))      # to read images\n",
        "    img_resize=resize(img_arr,(150,150,3))       # to resize image  (height,width,pixel)   pixel= color image(RGB - red,green,blue)\n",
        "    flat_data_arr.append(img_resize.flatten())        # to make 1D(flatten) and append\n",
        "    target_arr.append(categories.index(i))      # index of i=0 if cat and index of i=1 if dog\n",
        "  print('Loading completed',i)"
      ],
      "metadata": {
        "id": "THvtoLUhK7Qy",
        "colab": {
          "base_uri": "https://localhost:8080/"
        },
        "outputId": "b674ebcf-f16a-4c7d-be4a-f9dd9fb196a7"
      },
      "execution_count": null,
      "outputs": [
        {
          "output_type": "stream",
          "name": "stdout",
          "text": [
            "Loading categories....\n",
            "Loading completed Cat\n",
            "Loading categories....\n",
            "Loading completed Dog\n"
          ]
        }
      ]
    },
    {
      "cell_type": "code",
      "source": [
        "flat_data=np.array(flat_data_arr)\n",
        "target_arr=np.array(target_arr)\n",
        "df=pd.DataFrame(flat_data)\n",
        "df"
      ],
      "metadata": {
        "colab": {
          "base_uri": "https://localhost:8080/",
          "height": 443
        },
        "id": "Jo8JMz0lNJ-H",
        "outputId": "18806efb-01e9-4226-95d4-4dd71f99def2"
      },
      "execution_count": null,
      "outputs": [
        {
          "output_type": "execute_result",
          "data": {
            "text/plain": [
              "        0         1         2         3         4         5         6      \\\n",
              "0    0.567769  0.512867  0.461886  0.573767  0.518865  0.467885  0.545760   \n",
              "1    0.654589  0.092548  0.203156  0.643521  0.093398  0.199501  0.633144   \n",
              "2    0.869272  0.873193  0.853585  0.873435  0.877356  0.857749  0.875278   \n",
              "3    0.145156  0.152999  0.133391  0.140967  0.148810  0.129202  0.139563   \n",
              "4    0.281699  0.995425  0.999346  0.281699  0.995425  0.999346  0.281699   \n",
              "..        ...       ...       ...       ...       ...       ...       ...   \n",
              "148  0.078935  0.086778  0.075013  0.082741  0.090585  0.078820  0.097564   \n",
              "149  0.567795  0.743022  0.536629  0.576316  0.754119  0.562781  0.532521   \n",
              "150  0.342631  0.439104  0.279701  0.275549  0.388488  0.238657  0.286709   \n",
              "151  0.003922  0.003922  0.003922  0.003922  0.003922  0.003922  0.003922   \n",
              "152  0.048783  0.046052  0.040591  0.040040  0.037309  0.031848  0.039114   \n",
              "\n",
              "        7         8         9      ...     67490     67491     67492  \\\n",
              "0    0.490858  0.439877  0.557858  ...  0.521950  0.728231  0.660557   \n",
              "1    0.093794  0.195976  0.627333  ...  0.196421  0.644119  0.166650   \n",
              "2    0.879199  0.859591  0.869854  ...  0.850214  0.838799  0.828248   \n",
              "3    0.147406  0.127798  0.142803  ...  0.134194  0.233680  0.245358   \n",
              "4    0.995425  0.999346  0.281569  ...  0.975382  0.677381  0.997971   \n",
              "..        ...       ...       ...  ...       ...       ...       ...   \n",
              "148  0.105407  0.093643  0.116938  ...  0.505489  0.518806  0.530571   \n",
              "149  0.711565  0.525503  0.521763  ...  0.192060  0.292546  0.214115   \n",
              "150  0.418971  0.200387  0.280261  ...  0.972995  0.987786  0.964669   \n",
              "151  0.003922  0.003922  0.003922  ...  0.003922  0.003922  0.003922   \n",
              "152  0.036383  0.030922  0.042620  ...  0.049052  0.243144  0.293808   \n",
              "\n",
              "        67493     67494     67495     67496     67497     67498     67499  \n",
              "0    0.600644  0.698120  0.629841  0.567903  0.732229  0.653866  0.600209  \n",
              "1    0.215340  0.686256  0.145864  0.234624  0.698753  0.139866  0.235372  \n",
              "2    0.816542  0.845064  0.832109  0.811390  0.850880  0.828851  0.824736  \n",
              "3    0.212141  0.191619  0.201387  0.160922  0.132091  0.123605  0.087677  \n",
              "4    0.993252  0.674711  0.988845  0.975943  0.709319  0.992365  0.986100  \n",
              "..        ...       ...       ...       ...       ...       ...       ...  \n",
              "148  0.550179  0.496733  0.508497  0.528105  0.494269  0.506033  0.525641  \n",
              "149  0.210193  0.233386  0.154954  0.151033  0.266417  0.187986  0.184064  \n",
              "150  0.972176  0.988084  0.964348  0.967420  0.984593  0.961269  0.961172  \n",
              "151  0.003922  0.003922  0.003922  0.003922  0.003922  0.003922  0.003922  \n",
              "152  0.060043  0.284722  0.342444  0.076628  0.302048  0.327798  0.056587  \n",
              "\n",
              "[153 rows x 67500 columns]"
            ],
            "text/html": [
              "\n",
              "  <div id=\"df-dc286d8f-af91-46c2-afea-41e198dddf3d\" class=\"colab-df-container\">\n",
              "    <div>\n",
              "<style scoped>\n",
              "    .dataframe tbody tr th:only-of-type {\n",
              "        vertical-align: middle;\n",
              "    }\n",
              "\n",
              "    .dataframe tbody tr th {\n",
              "        vertical-align: top;\n",
              "    }\n",
              "\n",
              "    .dataframe thead th {\n",
              "        text-align: right;\n",
              "    }\n",
              "</style>\n",
              "<table border=\"1\" class=\"dataframe\">\n",
              "  <thead>\n",
              "    <tr style=\"text-align: right;\">\n",
              "      <th></th>\n",
              "      <th>0</th>\n",
              "      <th>1</th>\n",
              "      <th>2</th>\n",
              "      <th>3</th>\n",
              "      <th>4</th>\n",
              "      <th>5</th>\n",
              "      <th>6</th>\n",
              "      <th>7</th>\n",
              "      <th>8</th>\n",
              "      <th>9</th>\n",
              "      <th>...</th>\n",
              "      <th>67490</th>\n",
              "      <th>67491</th>\n",
              "      <th>67492</th>\n",
              "      <th>67493</th>\n",
              "      <th>67494</th>\n",
              "      <th>67495</th>\n",
              "      <th>67496</th>\n",
              "      <th>67497</th>\n",
              "      <th>67498</th>\n",
              "      <th>67499</th>\n",
              "    </tr>\n",
              "  </thead>\n",
              "  <tbody>\n",
              "    <tr>\n",
              "      <th>0</th>\n",
              "      <td>0.567769</td>\n",
              "      <td>0.512867</td>\n",
              "      <td>0.461886</td>\n",
              "      <td>0.573767</td>\n",
              "      <td>0.518865</td>\n",
              "      <td>0.467885</td>\n",
              "      <td>0.545760</td>\n",
              "      <td>0.490858</td>\n",
              "      <td>0.439877</td>\n",
              "      <td>0.557858</td>\n",
              "      <td>...</td>\n",
              "      <td>0.521950</td>\n",
              "      <td>0.728231</td>\n",
              "      <td>0.660557</td>\n",
              "      <td>0.600644</td>\n",
              "      <td>0.698120</td>\n",
              "      <td>0.629841</td>\n",
              "      <td>0.567903</td>\n",
              "      <td>0.732229</td>\n",
              "      <td>0.653866</td>\n",
              "      <td>0.600209</td>\n",
              "    </tr>\n",
              "    <tr>\n",
              "      <th>1</th>\n",
              "      <td>0.654589</td>\n",
              "      <td>0.092548</td>\n",
              "      <td>0.203156</td>\n",
              "      <td>0.643521</td>\n",
              "      <td>0.093398</td>\n",
              "      <td>0.199501</td>\n",
              "      <td>0.633144</td>\n",
              "      <td>0.093794</td>\n",
              "      <td>0.195976</td>\n",
              "      <td>0.627333</td>\n",
              "      <td>...</td>\n",
              "      <td>0.196421</td>\n",
              "      <td>0.644119</td>\n",
              "      <td>0.166650</td>\n",
              "      <td>0.215340</td>\n",
              "      <td>0.686256</td>\n",
              "      <td>0.145864</td>\n",
              "      <td>0.234624</td>\n",
              "      <td>0.698753</td>\n",
              "      <td>0.139866</td>\n",
              "      <td>0.235372</td>\n",
              "    </tr>\n",
              "    <tr>\n",
              "      <th>2</th>\n",
              "      <td>0.869272</td>\n",
              "      <td>0.873193</td>\n",
              "      <td>0.853585</td>\n",
              "      <td>0.873435</td>\n",
              "      <td>0.877356</td>\n",
              "      <td>0.857749</td>\n",
              "      <td>0.875278</td>\n",
              "      <td>0.879199</td>\n",
              "      <td>0.859591</td>\n",
              "      <td>0.869854</td>\n",
              "      <td>...</td>\n",
              "      <td>0.850214</td>\n",
              "      <td>0.838799</td>\n",
              "      <td>0.828248</td>\n",
              "      <td>0.816542</td>\n",
              "      <td>0.845064</td>\n",
              "      <td>0.832109</td>\n",
              "      <td>0.811390</td>\n",
              "      <td>0.850880</td>\n",
              "      <td>0.828851</td>\n",
              "      <td>0.824736</td>\n",
              "    </tr>\n",
              "    <tr>\n",
              "      <th>3</th>\n",
              "      <td>0.145156</td>\n",
              "      <td>0.152999</td>\n",
              "      <td>0.133391</td>\n",
              "      <td>0.140967</td>\n",
              "      <td>0.148810</td>\n",
              "      <td>0.129202</td>\n",
              "      <td>0.139563</td>\n",
              "      <td>0.147406</td>\n",
              "      <td>0.127798</td>\n",
              "      <td>0.142803</td>\n",
              "      <td>...</td>\n",
              "      <td>0.134194</td>\n",
              "      <td>0.233680</td>\n",
              "      <td>0.245358</td>\n",
              "      <td>0.212141</td>\n",
              "      <td>0.191619</td>\n",
              "      <td>0.201387</td>\n",
              "      <td>0.160922</td>\n",
              "      <td>0.132091</td>\n",
              "      <td>0.123605</td>\n",
              "      <td>0.087677</td>\n",
              "    </tr>\n",
              "    <tr>\n",
              "      <th>4</th>\n",
              "      <td>0.281699</td>\n",
              "      <td>0.995425</td>\n",
              "      <td>0.999346</td>\n",
              "      <td>0.281699</td>\n",
              "      <td>0.995425</td>\n",
              "      <td>0.999346</td>\n",
              "      <td>0.281699</td>\n",
              "      <td>0.995425</td>\n",
              "      <td>0.999346</td>\n",
              "      <td>0.281569</td>\n",
              "      <td>...</td>\n",
              "      <td>0.975382</td>\n",
              "      <td>0.677381</td>\n",
              "      <td>0.997971</td>\n",
              "      <td>0.993252</td>\n",
              "      <td>0.674711</td>\n",
              "      <td>0.988845</td>\n",
              "      <td>0.975943</td>\n",
              "      <td>0.709319</td>\n",
              "      <td>0.992365</td>\n",
              "      <td>0.986100</td>\n",
              "    </tr>\n",
              "    <tr>\n",
              "      <th>...</th>\n",
              "      <td>...</td>\n",
              "      <td>...</td>\n",
              "      <td>...</td>\n",
              "      <td>...</td>\n",
              "      <td>...</td>\n",
              "      <td>...</td>\n",
              "      <td>...</td>\n",
              "      <td>...</td>\n",
              "      <td>...</td>\n",
              "      <td>...</td>\n",
              "      <td>...</td>\n",
              "      <td>...</td>\n",
              "      <td>...</td>\n",
              "      <td>...</td>\n",
              "      <td>...</td>\n",
              "      <td>...</td>\n",
              "      <td>...</td>\n",
              "      <td>...</td>\n",
              "      <td>...</td>\n",
              "      <td>...</td>\n",
              "      <td>...</td>\n",
              "    </tr>\n",
              "    <tr>\n",
              "      <th>148</th>\n",
              "      <td>0.078935</td>\n",
              "      <td>0.086778</td>\n",
              "      <td>0.075013</td>\n",
              "      <td>0.082741</td>\n",
              "      <td>0.090585</td>\n",
              "      <td>0.078820</td>\n",
              "      <td>0.097564</td>\n",
              "      <td>0.105407</td>\n",
              "      <td>0.093643</td>\n",
              "      <td>0.116938</td>\n",
              "      <td>...</td>\n",
              "      <td>0.505489</td>\n",
              "      <td>0.518806</td>\n",
              "      <td>0.530571</td>\n",
              "      <td>0.550179</td>\n",
              "      <td>0.496733</td>\n",
              "      <td>0.508497</td>\n",
              "      <td>0.528105</td>\n",
              "      <td>0.494269</td>\n",
              "      <td>0.506033</td>\n",
              "      <td>0.525641</td>\n",
              "    </tr>\n",
              "    <tr>\n",
              "      <th>149</th>\n",
              "      <td>0.567795</td>\n",
              "      <td>0.743022</td>\n",
              "      <td>0.536629</td>\n",
              "      <td>0.576316</td>\n",
              "      <td>0.754119</td>\n",
              "      <td>0.562781</td>\n",
              "      <td>0.532521</td>\n",
              "      <td>0.711565</td>\n",
              "      <td>0.525503</td>\n",
              "      <td>0.521763</td>\n",
              "      <td>...</td>\n",
              "      <td>0.192060</td>\n",
              "      <td>0.292546</td>\n",
              "      <td>0.214115</td>\n",
              "      <td>0.210193</td>\n",
              "      <td>0.233386</td>\n",
              "      <td>0.154954</td>\n",
              "      <td>0.151033</td>\n",
              "      <td>0.266417</td>\n",
              "      <td>0.187986</td>\n",
              "      <td>0.184064</td>\n",
              "    </tr>\n",
              "    <tr>\n",
              "      <th>150</th>\n",
              "      <td>0.342631</td>\n",
              "      <td>0.439104</td>\n",
              "      <td>0.279701</td>\n",
              "      <td>0.275549</td>\n",
              "      <td>0.388488</td>\n",
              "      <td>0.238657</td>\n",
              "      <td>0.286709</td>\n",
              "      <td>0.418971</td>\n",
              "      <td>0.200387</td>\n",
              "      <td>0.280261</td>\n",
              "      <td>...</td>\n",
              "      <td>0.972995</td>\n",
              "      <td>0.987786</td>\n",
              "      <td>0.964669</td>\n",
              "      <td>0.972176</td>\n",
              "      <td>0.988084</td>\n",
              "      <td>0.964348</td>\n",
              "      <td>0.967420</td>\n",
              "      <td>0.984593</td>\n",
              "      <td>0.961269</td>\n",
              "      <td>0.961172</td>\n",
              "    </tr>\n",
              "    <tr>\n",
              "      <th>151</th>\n",
              "      <td>0.003922</td>\n",
              "      <td>0.003922</td>\n",
              "      <td>0.003922</td>\n",
              "      <td>0.003922</td>\n",
              "      <td>0.003922</td>\n",
              "      <td>0.003922</td>\n",
              "      <td>0.003922</td>\n",
              "      <td>0.003922</td>\n",
              "      <td>0.003922</td>\n",
              "      <td>0.003922</td>\n",
              "      <td>...</td>\n",
              "      <td>0.003922</td>\n",
              "      <td>0.003922</td>\n",
              "      <td>0.003922</td>\n",
              "      <td>0.003922</td>\n",
              "      <td>0.003922</td>\n",
              "      <td>0.003922</td>\n",
              "      <td>0.003922</td>\n",
              "      <td>0.003922</td>\n",
              "      <td>0.003922</td>\n",
              "      <td>0.003922</td>\n",
              "    </tr>\n",
              "    <tr>\n",
              "      <th>152</th>\n",
              "      <td>0.048783</td>\n",
              "      <td>0.046052</td>\n",
              "      <td>0.040591</td>\n",
              "      <td>0.040040</td>\n",
              "      <td>0.037309</td>\n",
              "      <td>0.031848</td>\n",
              "      <td>0.039114</td>\n",
              "      <td>0.036383</td>\n",
              "      <td>0.030922</td>\n",
              "      <td>0.042620</td>\n",
              "      <td>...</td>\n",
              "      <td>0.049052</td>\n",
              "      <td>0.243144</td>\n",
              "      <td>0.293808</td>\n",
              "      <td>0.060043</td>\n",
              "      <td>0.284722</td>\n",
              "      <td>0.342444</td>\n",
              "      <td>0.076628</td>\n",
              "      <td>0.302048</td>\n",
              "      <td>0.327798</td>\n",
              "      <td>0.056587</td>\n",
              "    </tr>\n",
              "  </tbody>\n",
              "</table>\n",
              "<p>153 rows × 67500 columns</p>\n",
              "</div>\n",
              "    <div class=\"colab-df-buttons\">\n",
              "\n",
              "  <div class=\"colab-df-container\">\n",
              "    <button class=\"colab-df-convert\" onclick=\"convertToInteractive('df-dc286d8f-af91-46c2-afea-41e198dddf3d')\"\n",
              "            title=\"Convert this dataframe to an interactive table.\"\n",
              "            style=\"display:none;\">\n",
              "\n",
              "  <svg xmlns=\"http://www.w3.org/2000/svg\" height=\"24px\" viewBox=\"0 -960 960 960\">\n",
              "    <path d=\"M120-120v-720h720v720H120Zm60-500h600v-160H180v160Zm220 220h160v-160H400v160Zm0 220h160v-160H400v160ZM180-400h160v-160H180v160Zm440 0h160v-160H620v160ZM180-180h160v-160H180v160Zm440 0h160v-160H620v160Z\"/>\n",
              "  </svg>\n",
              "    </button>\n",
              "\n",
              "  <style>\n",
              "    .colab-df-container {\n",
              "      display:flex;\n",
              "      gap: 12px;\n",
              "    }\n",
              "\n",
              "    .colab-df-convert {\n",
              "      background-color: #E8F0FE;\n",
              "      border: none;\n",
              "      border-radius: 50%;\n",
              "      cursor: pointer;\n",
              "      display: none;\n",
              "      fill: #1967D2;\n",
              "      height: 32px;\n",
              "      padding: 0 0 0 0;\n",
              "      width: 32px;\n",
              "    }\n",
              "\n",
              "    .colab-df-convert:hover {\n",
              "      background-color: #E2EBFA;\n",
              "      box-shadow: 0px 1px 2px rgba(60, 64, 67, 0.3), 0px 1px 3px 1px rgba(60, 64, 67, 0.15);\n",
              "      fill: #174EA6;\n",
              "    }\n",
              "\n",
              "    .colab-df-buttons div {\n",
              "      margin-bottom: 4px;\n",
              "    }\n",
              "\n",
              "    [theme=dark] .colab-df-convert {\n",
              "      background-color: #3B4455;\n",
              "      fill: #D2E3FC;\n",
              "    }\n",
              "\n",
              "    [theme=dark] .colab-df-convert:hover {\n",
              "      background-color: #434B5C;\n",
              "      box-shadow: 0px 1px 3px 1px rgba(0, 0, 0, 0.15);\n",
              "      filter: drop-shadow(0px 1px 2px rgba(0, 0, 0, 0.3));\n",
              "      fill: #FFFFFF;\n",
              "    }\n",
              "  </style>\n",
              "\n",
              "    <script>\n",
              "      const buttonEl =\n",
              "        document.querySelector('#df-dc286d8f-af91-46c2-afea-41e198dddf3d button.colab-df-convert');\n",
              "      buttonEl.style.display =\n",
              "        google.colab.kernel.accessAllowed ? 'block' : 'none';\n",
              "\n",
              "      async function convertToInteractive(key) {\n",
              "        const element = document.querySelector('#df-dc286d8f-af91-46c2-afea-41e198dddf3d');\n",
              "        const dataTable =\n",
              "          await google.colab.kernel.invokeFunction('convertToInteractive',\n",
              "                                                    [key], {});\n",
              "        if (!dataTable) return;\n",
              "\n",
              "        const docLinkHtml = 'Like what you see? Visit the ' +\n",
              "          '<a target=\"_blank\" href=https://colab.research.google.com/notebooks/data_table.ipynb>data table notebook</a>'\n",
              "          + ' to learn more about interactive tables.';\n",
              "        element.innerHTML = '';\n",
              "        dataTable['output_type'] = 'display_data';\n",
              "        await google.colab.output.renderOutput(dataTable, element);\n",
              "        const docLink = document.createElement('div');\n",
              "        docLink.innerHTML = docLinkHtml;\n",
              "        element.appendChild(docLink);\n",
              "      }\n",
              "    </script>\n",
              "  </div>\n",
              "\n",
              "\n",
              "<div id=\"df-bd7fe9ac-4967-4fea-9eb0-976ddbc27404\">\n",
              "  <button class=\"colab-df-quickchart\" onclick=\"quickchart('df-bd7fe9ac-4967-4fea-9eb0-976ddbc27404')\"\n",
              "            title=\"Suggest charts\"\n",
              "            style=\"display:none;\">\n",
              "\n",
              "<svg xmlns=\"http://www.w3.org/2000/svg\" height=\"24px\"viewBox=\"0 0 24 24\"\n",
              "     width=\"24px\">\n",
              "    <g>\n",
              "        <path d=\"M19 3H5c-1.1 0-2 .9-2 2v14c0 1.1.9 2 2 2h14c1.1 0 2-.9 2-2V5c0-1.1-.9-2-2-2zM9 17H7v-7h2v7zm4 0h-2V7h2v10zm4 0h-2v-4h2v4z\"/>\n",
              "    </g>\n",
              "</svg>\n",
              "  </button>\n",
              "\n",
              "<style>\n",
              "  .colab-df-quickchart {\n",
              "      --bg-color: #E8F0FE;\n",
              "      --fill-color: #1967D2;\n",
              "      --hover-bg-color: #E2EBFA;\n",
              "      --hover-fill-color: #174EA6;\n",
              "      --disabled-fill-color: #AAA;\n",
              "      --disabled-bg-color: #DDD;\n",
              "  }\n",
              "\n",
              "  [theme=dark] .colab-df-quickchart {\n",
              "      --bg-color: #3B4455;\n",
              "      --fill-color: #D2E3FC;\n",
              "      --hover-bg-color: #434B5C;\n",
              "      --hover-fill-color: #FFFFFF;\n",
              "      --disabled-bg-color: #3B4455;\n",
              "      --disabled-fill-color: #666;\n",
              "  }\n",
              "\n",
              "  .colab-df-quickchart {\n",
              "    background-color: var(--bg-color);\n",
              "    border: none;\n",
              "    border-radius: 50%;\n",
              "    cursor: pointer;\n",
              "    display: none;\n",
              "    fill: var(--fill-color);\n",
              "    height: 32px;\n",
              "    padding: 0;\n",
              "    width: 32px;\n",
              "  }\n",
              "\n",
              "  .colab-df-quickchart:hover {\n",
              "    background-color: var(--hover-bg-color);\n",
              "    box-shadow: 0 1px 2px rgba(60, 64, 67, 0.3), 0 1px 3px 1px rgba(60, 64, 67, 0.15);\n",
              "    fill: var(--button-hover-fill-color);\n",
              "  }\n",
              "\n",
              "  .colab-df-quickchart-complete:disabled,\n",
              "  .colab-df-quickchart-complete:disabled:hover {\n",
              "    background-color: var(--disabled-bg-color);\n",
              "    fill: var(--disabled-fill-color);\n",
              "    box-shadow: none;\n",
              "  }\n",
              "\n",
              "  .colab-df-spinner {\n",
              "    border: 2px solid var(--fill-color);\n",
              "    border-color: transparent;\n",
              "    border-bottom-color: var(--fill-color);\n",
              "    animation:\n",
              "      spin 1s steps(1) infinite;\n",
              "  }\n",
              "\n",
              "  @keyframes spin {\n",
              "    0% {\n",
              "      border-color: transparent;\n",
              "      border-bottom-color: var(--fill-color);\n",
              "      border-left-color: var(--fill-color);\n",
              "    }\n",
              "    20% {\n",
              "      border-color: transparent;\n",
              "      border-left-color: var(--fill-color);\n",
              "      border-top-color: var(--fill-color);\n",
              "    }\n",
              "    30% {\n",
              "      border-color: transparent;\n",
              "      border-left-color: var(--fill-color);\n",
              "      border-top-color: var(--fill-color);\n",
              "      border-right-color: var(--fill-color);\n",
              "    }\n",
              "    40% {\n",
              "      border-color: transparent;\n",
              "      border-right-color: var(--fill-color);\n",
              "      border-top-color: var(--fill-color);\n",
              "    }\n",
              "    60% {\n",
              "      border-color: transparent;\n",
              "      border-right-color: var(--fill-color);\n",
              "    }\n",
              "    80% {\n",
              "      border-color: transparent;\n",
              "      border-right-color: var(--fill-color);\n",
              "      border-bottom-color: var(--fill-color);\n",
              "    }\n",
              "    90% {\n",
              "      border-color: transparent;\n",
              "      border-bottom-color: var(--fill-color);\n",
              "    }\n",
              "  }\n",
              "</style>\n",
              "\n",
              "  <script>\n",
              "    async function quickchart(key) {\n",
              "      const quickchartButtonEl =\n",
              "        document.querySelector('#' + key + ' button');\n",
              "      quickchartButtonEl.disabled = true;  // To prevent multiple clicks.\n",
              "      quickchartButtonEl.classList.add('colab-df-spinner');\n",
              "      try {\n",
              "        const charts = await google.colab.kernel.invokeFunction(\n",
              "            'suggestCharts', [key], {});\n",
              "      } catch (error) {\n",
              "        console.error('Error during call to suggestCharts:', error);\n",
              "      }\n",
              "      quickchartButtonEl.classList.remove('colab-df-spinner');\n",
              "      quickchartButtonEl.classList.add('colab-df-quickchart-complete');\n",
              "    }\n",
              "    (() => {\n",
              "      let quickchartButtonEl =\n",
              "        document.querySelector('#df-bd7fe9ac-4967-4fea-9eb0-976ddbc27404 button');\n",
              "      quickchartButtonEl.style.display =\n",
              "        google.colab.kernel.accessAllowed ? 'block' : 'none';\n",
              "    })();\n",
              "  </script>\n",
              "</div>\n",
              "\n",
              "  <div id=\"id_bd4da951-8d52-424a-bf14-6abe3a18fd81\">\n",
              "    <style>\n",
              "      .colab-df-generate {\n",
              "        background-color: #E8F0FE;\n",
              "        border: none;\n",
              "        border-radius: 50%;\n",
              "        cursor: pointer;\n",
              "        display: none;\n",
              "        fill: #1967D2;\n",
              "        height: 32px;\n",
              "        padding: 0 0 0 0;\n",
              "        width: 32px;\n",
              "      }\n",
              "\n",
              "      .colab-df-generate:hover {\n",
              "        background-color: #E2EBFA;\n",
              "        box-shadow: 0px 1px 2px rgba(60, 64, 67, 0.3), 0px 1px 3px 1px rgba(60, 64, 67, 0.15);\n",
              "        fill: #174EA6;\n",
              "      }\n",
              "\n",
              "      [theme=dark] .colab-df-generate {\n",
              "        background-color: #3B4455;\n",
              "        fill: #D2E3FC;\n",
              "      }\n",
              "\n",
              "      [theme=dark] .colab-df-generate:hover {\n",
              "        background-color: #434B5C;\n",
              "        box-shadow: 0px 1px 3px 1px rgba(0, 0, 0, 0.15);\n",
              "        filter: drop-shadow(0px 1px 2px rgba(0, 0, 0, 0.3));\n",
              "        fill: #FFFFFF;\n",
              "      }\n",
              "    </style>\n",
              "    <button class=\"colab-df-generate\" onclick=\"generateWithVariable('df')\"\n",
              "            title=\"Generate code using this dataframe.\"\n",
              "            style=\"display:none;\">\n",
              "\n",
              "  <svg xmlns=\"http://www.w3.org/2000/svg\" height=\"24px\"viewBox=\"0 0 24 24\"\n",
              "       width=\"24px\">\n",
              "    <path d=\"M7,19H8.4L18.45,9,17,7.55,7,17.6ZM5,21V16.75L18.45,3.32a2,2,0,0,1,2.83,0l1.4,1.43a1.91,1.91,0,0,1,.58,1.4,1.91,1.91,0,0,1-.58,1.4L9.25,21ZM18.45,9,17,7.55Zm-12,3A5.31,5.31,0,0,0,4.9,8.1,5.31,5.31,0,0,0,1,6.5,5.31,5.31,0,0,0,4.9,4.9,5.31,5.31,0,0,0,6.5,1,5.31,5.31,0,0,0,8.1,4.9,5.31,5.31,0,0,0,12,6.5,5.46,5.46,0,0,0,6.5,12Z\"/>\n",
              "  </svg>\n",
              "    </button>\n",
              "    <script>\n",
              "      (() => {\n",
              "      const buttonEl =\n",
              "        document.querySelector('#id_bd4da951-8d52-424a-bf14-6abe3a18fd81 button.colab-df-generate');\n",
              "      buttonEl.style.display =\n",
              "        google.colab.kernel.accessAllowed ? 'block' : 'none';\n",
              "\n",
              "      buttonEl.onclick = () => {\n",
              "        google.colab.notebook.generateWithVariable('df');\n",
              "      }\n",
              "      })();\n",
              "    </script>\n",
              "  </div>\n",
              "\n",
              "    </div>\n",
              "  </div>\n"
            ],
            "application/vnd.google.colaboratory.intrinsic+json": {
              "type": "dataframe",
              "variable_name": "df"
            }
          },
          "metadata": {},
          "execution_count": 11
        }
      ]
    },
    {
      "cell_type": "code",
      "source": [
        "df.shape"
      ],
      "metadata": {
        "colab": {
          "base_uri": "https://localhost:8080/"
        },
        "id": "sVkiDJ5pNJuh",
        "outputId": "a651b2e4-1f2d-4e5b-d33f-ef5d5363b254"
      },
      "execution_count": null,
      "outputs": [
        {
          "output_type": "execute_result",
          "data": {
            "text/plain": [
              "(153, 67500)"
            ]
          },
          "metadata": {},
          "execution_count": 12
        }
      ]
    },
    {
      "cell_type": "code",
      "source": [
        "df['Target']=target_arr     # to add output column\n",
        "df.shape"
      ],
      "metadata": {
        "id": "a16NyGDcK7LV",
        "colab": {
          "base_uri": "https://localhost:8080/"
        },
        "outputId": "ab556aaf-dae1-4393-e808-0cc7f55d8584"
      },
      "execution_count": null,
      "outputs": [
        {
          "output_type": "execute_result",
          "data": {
            "text/plain": [
              "(153, 67501)"
            ]
          },
          "metadata": {},
          "execution_count": 13
        }
      ]
    },
    {
      "cell_type": "code",
      "source": [
        "x=df.iloc[:,:-1]\n",
        "y=df.iloc[:,-1]"
      ],
      "metadata": {
        "id": "7vAnLUISa2qg"
      },
      "execution_count": null,
      "outputs": []
    },
    {
      "cell_type": "code",
      "source": [
        "x_train,x_test,y_train,y_test=train_test_split(x,y,test_size=0.20,random_state=0)"
      ],
      "metadata": {
        "id": "2smaoi_8a2iM"
      },
      "execution_count": null,
      "outputs": []
    },
    {
      "cell_type": "code",
      "source": [
        "from sklearn.svm import SVC\n",
        "model=SVC()\n",
        "model.fit(x_train,y_train)\n",
        "y_pred=model.predict(x_test)\n",
        "y_pred"
      ],
      "metadata": {
        "colab": {
          "base_uri": "https://localhost:8080/"
        },
        "id": "QQ5GJ9PEbSyq",
        "outputId": "aac68656-dcd0-4674-f0c6-7af359e72a60"
      },
      "execution_count": null,
      "outputs": [
        {
          "output_type": "execute_result",
          "data": {
            "text/plain": [
              "array([0, 0, 0, 1, 0, 0, 0, 0, 0, 1, 0, 0, 1, 0, 0, 0, 0, 1, 0, 1, 0, 0,\n",
              "       0, 0, 0, 0, 0, 0, 0, 1, 0])"
            ]
          },
          "metadata": {},
          "execution_count": 16
        }
      ]
    },
    {
      "cell_type": "code",
      "source": [
        "from sklearn.metrics import accuracy_score,confusion_matrix\n",
        "print('Accuracy Score:',accuracy_score(y_test,y_pred))"
      ],
      "metadata": {
        "colab": {
          "base_uri": "https://localhost:8080/"
        },
        "id": "uIBs0DhbcF9C",
        "outputId": "193bf0fc-e998-47cb-f43f-269da55009f3"
      },
      "execution_count": null,
      "outputs": [
        {
          "output_type": "stream",
          "name": "stdout",
          "text": [
            "Accuracy Score: 0.5483870967741935\n"
          ]
        }
      ]
    },
    {
      "cell_type": "code",
      "source": [
        "path1='/content/drive/MyDrive/pexels-pixabay-45201.jpg'\n",
        "img=imread(path1)    # to read image\n",
        "img=resize(img,(150,150,3)).flatten().reshape(1,-1)\n",
        "model.predict(img)"
      ],
      "metadata": {
        "colab": {
          "base_uri": "https://localhost:8080/"
        },
        "id": "oT4k7S3Vcd3c",
        "outputId": "7e084913-04d0-4e6f-a333-54452359abb3"
      },
      "execution_count": null,
      "outputs": [
        {
          "output_type": "execute_result",
          "data": {
            "text/plain": [
              "array([0])"
            ]
          },
          "metadata": {},
          "execution_count": 18
        }
      ]
    },
    {
      "cell_type": "code",
      "source": [
        "path1='/content/drive/MyDrive/pexels-lkloeppel-1307630.jpg'\n",
        "img=imread(path1)    # to read image\n",
        "img=resize(img,(150,150,3)).flatten().reshape(1,-1)\n",
        "model.predict(img)"
      ],
      "metadata": {
        "colab": {
          "base_uri": "https://localhost:8080/"
        },
        "id": "tgE0T9_OhaOh",
        "outputId": "3714f58a-c0a0-43fd-cf5a-f56b1fca6958"
      },
      "execution_count": null,
      "outputs": [
        {
          "output_type": "execute_result",
          "data": {
            "text/plain": [
              "array([0])"
            ]
          },
          "metadata": {},
          "execution_count": 19
        }
      ]
    },
    {
      "cell_type": "code",
      "source": [
        "p='/content/dog3.jpg'\n",
        "img=imread(p)    # to read image\n",
        "img=resize(img,(150,150,3)).flatten().reshape(1,-1)\n",
        "model.predict(img)"
      ],
      "metadata": {
        "id": "91BBKCqhiMpd",
        "colab": {
          "base_uri": "https://localhost:8080/"
        },
        "outputId": "f2cc6a85-0bb0-4f63-a2f4-e66560096aee"
      },
      "execution_count": null,
      "outputs": [
        {
          "output_type": "execute_result",
          "data": {
            "text/plain": [
              "array([0])"
            ]
          },
          "metadata": {},
          "execution_count": 25
        }
      ]
    }
  ]
}